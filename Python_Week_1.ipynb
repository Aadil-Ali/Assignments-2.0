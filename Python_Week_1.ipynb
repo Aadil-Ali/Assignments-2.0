{
 "cells": [
  {
   "cell_type": "code",
   "execution_count": 2,
   "id": "d40928ac-941b-48b8-b9fe-9ccdf57a8a26",
   "metadata": {},
   "outputs": [
    {
     "data": {
      "text/plain": [
       "['Aadil Ali', [2, 3, 4, 5, 6], 3.4, 6.7, (3, 4, 5, 67)]"
      ]
     },
     "execution_count": 2,
     "metadata": {},
     "output_type": "execute_result"
    }
   ],
   "source": [
    "#1 \n",
    "\n",
    "All_type_of_Data = ['Aadil Ali' , [2,3,4,5,6] , 3.4, 6.7 , (3,4,5,67)]\n",
    "All_type_of_Data"
   ]
  },
  {
   "cell_type": "markdown",
   "id": "4f2b8da5-c234-4c66-b2a2-bbbd440b9529",
   "metadata": {},
   "source": [
    "Q2.\n",
    "\n",
    "var1 = str\n",
    "\n",
    "var2 = str\n",
    "\n",
    "var3 = list \n",
    "\n",
    "var4 = float"
   ]
  },
  {
   "cell_type": "markdown",
   "id": "a74869d7-926e-42dd-9c28-23f8907c3705",
   "metadata": {},
   "source": [
    "Q3"
   ]
  },
  {
   "cell_type": "markdown",
   "id": "84330ff5-554d-4527-b53a-d86e5309bf5c",
   "metadata": {},
   "source": [
    "'/' = Devision Operator Divides the number on its left by the number on its right and returns a floating point value. \n",
    "\n",
    "'%' = Modulo Operator return the remainder \n",
    "\n",
    "'//' = Floor Devision Operator Divides the number on its left by the number on its right, rounds down the answer, and returns a whole number.\n",
    "\n",
    "'**' = The operator that can be used to perform the exponent arithmetic in Python is **"
   ]
  },
  {
   "cell_type": "markdown",
   "id": "050f9a44-e9da-4f09-a208-3cd7b2035d2a",
   "metadata": {},
   "source": [
    "Q4"
   ]
  },
  {
   "cell_type": "code",
   "execution_count": 18,
   "id": "27795e19-c9f6-4f3c-93c4-977a884b0ccc",
   "metadata": {},
   "outputs": [
    {
     "name": "stdout",
     "output_type": "stream",
     "text": [
      "2\n",
      "3\n",
      "4\n",
      "5\n",
      "4.5\n",
      "34.7\n",
      "Aadil\n",
      "Sahil\n"
     ]
    }
   ],
   "source": [
    "l = [2,3,4,5,4.5,34.7,'Aadil','Sahil']\n",
    "for i in l:\n",
    "    print(i)"
   ]
  },
  {
   "cell_type": "markdown",
   "id": "69d20b11-1209-4388-ba95-37dc52e49bfc",
   "metadata": {},
   "source": [
    "Q5"
   ]
  },
  {
   "cell_type": "code",
   "execution_count": 3,
   "id": "473c396b-c4c3-4a28-92cc-3538c0444b5b",
   "metadata": {},
   "outputs": [
    {
     "name": "stdin",
     "output_type": "stream",
     "text": [
      "First Number :  3456\n",
      "Second Number :  4\n"
     ]
    },
    {
     "name": "stdout",
     "output_type": "stream",
     "text": [
      "864.0\n"
     ]
    }
   ],
   "source": [
    "a = int(input('First Number : '))\n",
    "b = int(input('Second Number : '))\n",
    "while a % b == 0:\n",
    "        print(a/b)\n",
    "        break\n",
    "        "
   ]
  },
  {
   "cell_type": "markdown",
   "id": "fe3d62f3-ccd5-4f68-bcff-449c7937e9b2",
   "metadata": {},
   "source": [
    "Q6"
   ]
  },
  {
   "cell_type": "code",
   "execution_count": 14,
   "id": "45626cd2-4b72-4d58-97ac-09fcff4df378",
   "metadata": {},
   "outputs": [
    {
     "name": "stdout",
     "output_type": "stream",
     "text": [
      "3\n",
      "6\n",
      "9\n",
      "12\n",
      "15\n",
      "18\n",
      "21\n",
      "24\n"
     ]
    }
   ],
   "source": [
    "l1 = list(range(1,26))\n",
    "l2 = []\n",
    "for i in l1:\n",
    "    if i % 3 == 0:\n",
    "        l2.append\n",
    "        print(i)\n",
    "    else :\n",
    "        continue\n"
   ]
  },
  {
   "cell_type": "markdown",
   "id": "b2593848-090e-4d11-a107-85f5174c87ba",
   "metadata": {},
   "source": [
    "Q7"
   ]
  },
  {
   "cell_type": "markdown",
   "id": "c5812ec4-00de-4b5d-9328-3ca4938aed23",
   "metadata": {},
   "source": [
    "Mutable : We can change the size of the data and value of the data in Mutable \n",
    "\n",
    "Immutable  : We can't change anything in immutable data "
   ]
  },
  {
   "cell_type": "code",
   "execution_count": 16,
   "id": "49f7f2b7-d1bd-44a9-aa98-76075f0659dd",
   "metadata": {},
   "outputs": [
    {
     "data": {
      "text/plain": [
       "[2, 3, 4, 5, 10, 7]"
      ]
     },
     "execution_count": 16,
     "metadata": {},
     "output_type": "execute_result"
    }
   ],
   "source": [
    "#Mutable \n",
    "x = [2,3,4,5,6,7]\n",
    "x[4] = 10\n",
    "x"
   ]
  },
  {
   "cell_type": "code",
   "execution_count": 17,
   "id": "ab4f6519-4a05-4d37-a62a-73f98f583b1e",
   "metadata": {},
   "outputs": [
    {
     "ename": "TypeError",
     "evalue": "'tuple' object does not support item assignment",
     "output_type": "error",
     "traceback": [
      "\u001b[0;31m---------------------------------------------------------------------------\u001b[0m",
      "\u001b[0;31mTypeError\u001b[0m                                 Traceback (most recent call last)",
      "Cell \u001b[0;32mIn[17], line 3\u001b[0m\n\u001b[1;32m      1\u001b[0m \u001b[38;5;66;03m#Immutable \u001b[39;00m\n\u001b[1;32m      2\u001b[0m y \u001b[38;5;241m=\u001b[39m (\u001b[38;5;241m1\u001b[39m,\u001b[38;5;241m2\u001b[39m,\u001b[38;5;241m3\u001b[39m,\u001b[38;5;241m4\u001b[39m,\u001b[38;5;241m5\u001b[39m,\u001b[38;5;241m6\u001b[39m)\n\u001b[0;32m----> 3\u001b[0m \u001b[43my\u001b[49m\u001b[43m[\u001b[49m\u001b[38;5;241;43m3\u001b[39;49m\u001b[43m]\u001b[49m \u001b[38;5;241m=\u001b[39m \u001b[38;5;241m10\u001b[39m\n",
      "\u001b[0;31mTypeError\u001b[0m: 'tuple' object does not support item assignment"
     ]
    }
   ],
   "source": [
    "#Immutable \n",
    "y = (1,2,3,4,5,6)\n",
    "y[3] = 10"
   ]
  },
  {
   "cell_type": "code",
   "execution_count": null,
   "id": "a573bee9-f7c9-48ac-a910-04f2fe2297db",
   "metadata": {},
   "outputs": [],
   "source": []
  }
 ],
 "metadata": {
  "kernelspec": {
   "display_name": "Python 3 (ipykernel)",
   "language": "python",
   "name": "python3"
  },
  "language_info": {
   "codemirror_mode": {
    "name": "ipython",
    "version": 3
   },
   "file_extension": ".py",
   "mimetype": "text/x-python",
   "name": "python",
   "nbconvert_exporter": "python",
   "pygments_lexer": "ipython3",
   "version": "3.10.8"
  }
 },
 "nbformat": 4,
 "nbformat_minor": 5
}
