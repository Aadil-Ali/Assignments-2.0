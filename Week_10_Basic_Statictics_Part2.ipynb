{
 "cells": [
  {
   "cell_type": "markdown",
   "id": "10bd41ce-b2b2-487a-83b4-1e612f0b4f52",
   "metadata": {},
   "source": [
    "Q1.\n",
    "\n",
    "The three measures of central tendency are:\n",
    "1) Mean\n",
    "\n",
    "2) Median \n",
    "\n",
    "3) Mode\n",
    "\n"
   ]
  },
  {
   "cell_type": "markdown",
   "id": "0ca3699d-d922-4435-954b-5f94c71c271c",
   "metadata": {},
   "source": [
    "Q2.\n",
    "1. **Mean**:\n",
    "   - The mean, also known as the average, is calculated by summing up all the values in a dataset and then dividing by the total number of values.\n",
    "   - It is sensitive to the values of all data points and can be influenced by outliers.\n",
    "\n",
    "2. **Median**:\n",
    "   - The median is the middle value in a dataset when the values are arranged in ascending or descending order.\n",
    "   - If the number of data points is even, the median is the average of the two middle values.\n",
    "   - It is less affected by outliers and provides a better representation of the central value in skewed distributions.\n",
    "\n",
    "3. **Mode**:\n",
    "   - The mode is the value that appears most frequently in a dataset.\n",
    "   - A dataset can have one mode (unimodal), two modes (bimodal), or more (multimodal).\n",
    "   - It is especially useful for categorical or discrete data.\n",
    "\n"
   ]
  },
  {
   "cell_type": "code",
   "execution_count": 10,
   "id": "148549b6-a35b-49e6-b326-1def08965268",
   "metadata": {},
   "outputs": [
    {
     "name": "stdout",
     "output_type": "stream",
     "text": [
      "Mean is  177.01875\n",
      "Median of Height is  177.0\n",
      "Mode is  178\n"
     ]
    }
   ],
   "source": [
    "#Q3\n",
    "\n",
    "import numpy as np\n",
    "x = [178,177,176,177,178.2,178,175,179,180,175,178.9,176.2,177,172.5,178,176.5]\n",
    "\n",
    "print(\"Mean is \", np.mean(x))\n",
    "\n",
    "print(\"Median of Height is \" , np.median(x))\n",
    "\n",
    "import statistics as s\n",
    "print(\"Mode is \" ,s.mode(x))"
   ]
  },
  {
   "cell_type": "code",
   "execution_count": 15,
   "id": "0ad93631-68fc-418e-8a35-95a58b6d5696",
   "metadata": {},
   "outputs": [
    {
     "name": "stdout",
     "output_type": "stream",
     "text": [
      "Std is : 1.7885814036548633\n"
     ]
    }
   ],
   "source": [
    "#Q4\n",
    "\n",
    "import numpy as np\n",
    "y = [178,177,176,177,178.2,178,175,179,180,175,178.9,176.2,177,172.5,178,176.5]\n",
    "\n",
    "print(\"Std is :\",np.std(y))\n",
    "\n"
   ]
  },
  {
   "cell_type": "markdown",
   "id": "04eb52e4-4be4-41b8-9e42-52cec0852a6c",
   "metadata": {},
   "source": [
    "Q5\n",
    "\n",
    "Measures of dispersion, such as range, variance, and standard deviation, provide insights into the spread or variability of data points within a dataset. They help quantify how much the data values deviate from the central tendency (e.g., mean or median). Let's explore how these measures are used to describe the spread of a dataset with an example:\n",
    "\n",
    "**Example: Exam Scores**\n",
    "\n",
    "Suppose you are a teacher and you have collected the exam scores (out of 100) of a group of students in your class. The scores are as follows: 85, 90, 78, 92, 88, 76, 95, 82, 89, 85.\n",
    "\n",
    "1. **Range**:\n",
    "   - Range is the simplest measure of dispersion and is calculated as the difference between the maximum and minimum values.\n",
    "   - Range = Maximum Value - Minimum Value\n",
    "   - Range = 95 - 76 = 19\n",
    "\n",
    "2. **Variance**:\n",
    "   - Variance measures the average squared deviation of each data point from the mean.\n",
    "   - Calculate the mean: (85 + 90 + 78 + 92 + 88 + 76 + 95 + 82 + 89 + 85) / 10 = 85.2\n",
    "   - Calculate the squared deviations from the mean for each score: (85 - 85.2)^2, (90 - 85.2)^2, ...\n",
    "   - Sum the squared deviations: Sum = (0.04 + 20.25 + 134.56 + 41.64 + 6.44 + 72.36 + 82.01 + 7.84 + 13.69 + 0.04) = 378.23\n",
    "   - Variance = Sum / (n - 1) = 378.23 / 9 ≈ 42.03\n",
    "\n",
    "3. **Standard Deviation**:\n",
    "   - Standard deviation is the square root of the variance.\n",
    "   - Standard Deviation = √Variance ≈ √42.03 ≈ 6.48\n",
    "\n",
    "In this example:\n",
    "- The range of exam scores is 19, indicating that the scores vary by this amount from the lowest to the highest.\n",
    "- The variance is approximately 42.03, showing the average squared deviation of scores from the mean.\n",
    "- The standard deviation is approximately 6.48, representing the typical (average) deviation of scores from the mean.\n",
    "\n",
    "The variance and standard deviation provide a more precise description of how spread out the scores are compared to the range. A higher standard deviation indicates greater variability in the scores, while a lower standard deviation suggests less variability. These measures help you understand the distribution and variability of the exam scores, providing valuable insights for educational assessment and decision-making.\n"
   ]
  },
  {
   "cell_type": "markdown",
   "id": "fac1c056-8df3-4927-b49a-b48562e20788",
   "metadata": {},
   "source": [
    "Q6\n",
    "\n",
    "A Venn diagram is a graphical representation that uses overlapping circles or other shapes to depict the relationships between different sets or groups of items. It is a visual tool commonly used in mathematics, logic, statistics, and various fields to illustrate the intersections and differences among various categories or elements.\n"
   ]
  },
  {
   "cell_type": "markdown",
   "id": "c6f14c8d-3ea5-4945-b9cb-3a7336b5f973",
   "metadata": {},
   "source": [
    "Q7\n",
    "\n",
    "A = (2,3,4,5,6,7) & B = (0,2,6,8,10). \n",
    "\n",
    "(i) (2,6)\n",
    "\n",
    "(ii) (0,2,3,4,5,6,7,8,10)\n"
   ]
  },
  {
   "cell_type": "markdown",
   "id": "1fd23d81-62a3-4570-a627-5dd98c0fe3ad",
   "metadata": {},
   "source": [
    "Q8\n",
    "\n",
    "Skewness is a measurement of the distortion of symmetrical distribution or asymmetry in a data set. Skewness is demonstrated on a bell curve when data points are not distributed symmetrically to the left and right sides of the median on a bell curve.\n"
   ]
  },
  {
   "cell_type": "markdown",
   "id": "e4accd8d-76d2-4a9b-90ad-55afbddb1f15",
   "metadata": {},
   "source": [
    "Q9 \n",
    "\n",
    "In a right-skewed distribution, the median will typically be positioned to the left of the mean. This is because the tail of the distribution is extended towards the right (higher values), which pulls the mean in that direction. As a result, the mean is influenced by the skewness and tends to be larger than the median.\n",
    "\n",
    "\n"
   ]
  },
  {
   "cell_type": "markdown",
   "id": "9dd5f3f9-fe39-4663-aa5a-15e68d11a7a0",
   "metadata": {},
   "source": [
    "Q10.\n",
    "\n",
    "**Covariance** and **correlation** are both measures that describe the relationship between two variables in a dataset, but they have different interpretations and uses in statistical analysis.\n",
    "\n",
    "**Covariance**:\n",
    "\n",
    "Covariance measures the degree to which two variables change together. It indicates the direction of the linear relationship between the variables, whether they tend to increase or decrease together. A positive covariance indicates a positive relationship (both variables increase or decrease together), while a negative covariance indicates a negative relationship (one variable increases as the other decreases).\n",
    "\n",
    "Mathematically, the covariance between two variables X and Y is calculated as:\n",
    "\n",
    "Cov(X, Y) = Σ [(Xᵢ - X̄) * (Yᵢ - Ȳ)] / (n - 1)\n",
    "\n",
    "Where:\n",
    "- Xᵢ, Yᵢ: Individual data points of variables X and Y\n",
    "- X̄, Ȳ: Mean of variables X and Y\n",
    "- n: Number of data points\n",
    "\n",
    "**Correlation**:\n",
    "\n",
    "Correlation is a standardized measure of the strength and direction of the linear relationship between two variables. It ranges from -1 to 1. A correlation of +1 indicates a perfect positive linear relationship, a correlation of -1 indicates a perfect negative linear relationship, and a correlation of 0 indicates no linear relationship.\n",
    "\n",
    "Mathematically, the correlation coefficient (often denoted as \"r\") between two variables X and Y is calculated as:\n",
    "\n",
    "r = Cov(X, Y) / (σX * σY)\n",
    "\n",
    "Where:\n",
    "- Cov(X, Y): Covariance between X and Y\n",
    "- σX, σY: Standard deviations of X and Y\n"
   ]
  },
  {
   "cell_type": "markdown",
   "id": "575b0873-46a8-4e43-b9c2-50c038710d85",
   "metadata": {},
   "source": [
    "Q11\n",
    "\n",
    "The formula for calculating the sample mean is:\n",
    "\n",
    "Sample Mean (x̄) = (Sum of all data points) / (Number of data points)\n",
    "\n",
    "Example calculation:\n",
    "\n",
    "Suppose we have a dataset of exam scores: 85, 90, 78, 92, 88\n",
    "\n",
    "Sum of data points = 85 + 90 + 78 + 92 + 88 = 433\n",
    "Number of data points = 5\n",
    "\n",
    "Sample Mean (x̄) = 433 / 5 = 86.6\n",
    "\n",
    "Therefore, the sample mean of the exam scores is 86.6."
   ]
  },
  {
   "cell_type": "markdown",
   "id": "4507a682-1dd8-4288-bb7a-af7d9a89822d",
   "metadata": {},
   "source": [
    "Q12\n",
    "\n",
    "In a normal distribution:\n",
    "\n",
    "1. The mean, median, and mode are all equal and located at the center of the distribution.\n",
    "2. The distribution is symmetric, meaning that it is perfectly balanced around its center.\n",
    "3. The mean, median, and mode are all located at the highest point of the symmetric curve.\n",
    "\n",
    "This relationship between the measures of central tendency is a characteristic feature of a normal distribution.\n"
   ]
  },
  {
   "cell_type": "markdown",
   "id": "b581ba56-eab6-4060-9d8f-15d161a6deb0",
   "metadata": {},
   "source": [
    "Q13.\n",
    "\n",
    "Covariance measures the degree and direction of relationship between two variables, while correlation standardizes this relationship to a scale between -1 and 1, indicating both strength and direction.\n"
   ]
  },
  {
   "cell_type": "markdown",
   "id": "78d76ff4-c2fd-4890-bb41-ad10b70ee758",
   "metadata": {},
   "source": [
    "Q14.\n",
    "\n",
    "Outliers can significantly impact measures of central tendency (like mean, median, and mode) by pulling them towards the outlier value. They can also affect measures of dispersion (like range, variance, and standard deviation) by increasing variability in the dataset.\n",
    "\n",
    "Example:\n",
    "Consider a dataset of exam scores: 85, 90, 78, 92, 300 (an outlier), 88.\n",
    "\n",
    "Original mean: (85 + 90 + 78 + 92 + 300 + 88) / 6 = 143.83\n",
    "Mean without outlier: (85 + 90 + 78 + 92 + 88) / 5 = 86.6\n",
    "\n",
    "The presence of the outlier (300) significantly increases the mean, pulling it away from the central values.\n",
    "\n",
    "Original standard deviation: √[(Σ(xi - x̄)²) / (n)] = √[(28494) / (6)] ≈ 62.55\n",
    "Standard deviation without outlier: √[(Σ(xi - x̄)²) / (n)] = √[(106.8) / (5)] ≈ 10.33\n",
    "\n",
    "The outlier greatly increases the standard deviation, indicating increased variability due to the outlier's distance from the mean."
   ]
  }
 ],
 "metadata": {
  "kernelspec": {
   "display_name": "Python 3 (ipykernel)",
   "language": "python",
   "name": "python3"
  },
  "language_info": {
   "codemirror_mode": {
    "name": "ipython",
    "version": 3
   },
   "file_extension": ".py",
   "mimetype": "text/x-python",
   "name": "python",
   "nbconvert_exporter": "python",
   "pygments_lexer": "ipython3",
   "version": "3.10.8"
  }
 },
 "nbformat": 4,
 "nbformat_minor": 5
}
