{
 "cells": [
  {
   "cell_type": "code",
   "execution_count": 1,
   "id": "aee1d6eb-245a-4ab7-bba4-589b3eb9979f",
   "metadata": {},
   "outputs": [],
   "source": [
    "import pandas as pd"
   ]
  },
  {
   "cell_type": "markdown",
   "id": "f44686a4-c60c-4eb8-b6f9-9701fb510b4b",
   "metadata": {},
   "source": [
    "Q1"
   ]
  },
  {
   "cell_type": "markdown",
   "id": "a3fa6d63-8179-4632-983a-277f8557ada0",
   "metadata": {},
   "source": [
    "Certainly! Here are five functions commonly used in the pandas library along with their execution examples:\n",
    "\n",
    "1. **`read_csv()`**: This function is used to read data from a CSV file and create a pandas DataFrame.\n",
    "\n",
    "```python\n",
    "import pandas as pd\n",
    "\n",
    "# Read a CSV file and create a DataFrame\n",
    "data = pd.read_csv('data.csv')\n",
    "print(data.head())\n",
    "```\n",
    "\n",
    "2. **`head()`**: It is used to display the first n rows of a DataFrame. By default, it shows the first 5 rows.\n",
    "\n",
    "```python\n",
    "import pandas as pd\n",
    "\n",
    "# Create a DataFrame\n",
    "data = {'Name': ['John', 'Jane', 'Mike', 'Sarah', 'Chris'],\n",
    "        'Age': [25, 30, 35, 28, 42],\n",
    "        'City': ['New York', 'London', 'Paris', 'Tokyo', 'Sydney']}\n",
    "df = pd.DataFrame(data)\n",
    "\n",
    "# Display the first 3 rows of the DataFrame\n",
    "print(df.head(3))\n",
    "```\n",
    "\n",
    "3. **`info()`**: It provides a summary of a DataFrame, including the column names, data types, and number of non-null values.\n",
    "\n",
    "```python\n",
    "import pandas as pd\n",
    "\n",
    "# Create a DataFrame\n",
    "data = {'Name': ['John', 'Jane', 'Mike', 'Sarah', 'Chris'],\n",
    "        'Age': [25, 30, 35, 28, 42],\n",
    "        'City': ['New York', 'London', 'Paris', 'Tokyo', 'Sydney']}\n",
    "df = pd.DataFrame(data)\n",
    "\n",
    "# Get summary information about the DataFrame\n",
    "df.info()\n",
    "```\n",
    "\n",
    "4. **`describe()`**: This function generates descriptive statistics of the numerical columns in a DataFrame, such as count, mean, standard deviation, minimum, maximum, and quartile values.\n",
    "\n",
    "```python\n",
    "import pandas as pd\n",
    "\n",
    "# Create a DataFrame\n",
    "data = {'Name': ['John', 'Jane', 'Mike', 'Sarah', 'Chris'],\n",
    "        'Age': [25, 30, 35, 28, 42],\n",
    "        'City': ['New York', 'London', 'Paris', 'Tokyo', 'Sydney']}\n",
    "df = pd.DataFrame(data)\n",
    "\n",
    "# Generate descriptive statistics of the numerical columns\n",
    "print(df.describe())\n",
    "```\n",
    "\n",
    "5. **`groupby()`**: This function is used to group rows of a DataFrame based on one or more columns, allowing for aggregations and analysis.\n",
    "\n",
    "```python\n",
    "import pandas as pd\n",
    "\n",
    "# Create a DataFrame\n",
    "data = {'Name': ['John', 'Jane', 'Mike', 'Sarah', 'Chris'],\n",
    "        'Age': [25, 30, 35, 28, 42],\n",
    "        'City': ['New York', 'London', 'Paris', 'Tokyo', 'Sydney']}\n",
    "df = pd.DataFrame(data)\n",
    "\n",
    "# Group the DataFrame by 'City' and calculate the average age\n",
    "grouped = df.groupby('City')\n",
    "average_age = grouped['Age'].mean()\n",
    "print(average_age)\n",
    "```\n"
   ]
  },
  {
   "cell_type": "markdown",
   "id": "757541b1-0e47-47e5-afbd-74c7c6922802",
   "metadata": {},
   "source": [
    "Q2"
   ]
  },
  {
   "cell_type": "code",
   "execution_count": 2,
   "id": "8e4e0fd0-6fd9-45b8-b71c-0b9ce9e5c4a9",
   "metadata": {},
   "outputs": [
    {
     "data": {
      "text/html": [
       "<div>\n",
       "<style scoped>\n",
       "    .dataframe tbody tr th:only-of-type {\n",
       "        vertical-align: middle;\n",
       "    }\n",
       "\n",
       "    .dataframe tbody tr th {\n",
       "        vertical-align: top;\n",
       "    }\n",
       "\n",
       "    .dataframe thead th {\n",
       "        text-align: right;\n",
       "    }\n",
       "</style>\n",
       "<table border=\"1\" class=\"dataframe\">\n",
       "  <thead>\n",
       "    <tr style=\"text-align: right;\">\n",
       "      <th></th>\n",
       "      <th>a</th>\n",
       "      <th>b</th>\n",
       "      <th>c</th>\n",
       "    </tr>\n",
       "  </thead>\n",
       "  <tbody>\n",
       "    <tr>\n",
       "      <th>1</th>\n",
       "      <td>3.0</td>\n",
       "      <td>2.0</td>\n",
       "      <td>2.0</td>\n",
       "    </tr>\n",
       "    <tr>\n",
       "      <th>4</th>\n",
       "      <td>2.0</td>\n",
       "      <td>4.0</td>\n",
       "      <td>6.0</td>\n",
       "    </tr>\n",
       "    <tr>\n",
       "      <th>7</th>\n",
       "      <td>NaN</td>\n",
       "      <td>NaN</td>\n",
       "      <td>NaN</td>\n",
       "    </tr>\n",
       "    <tr>\n",
       "      <th>10</th>\n",
       "      <td>NaN</td>\n",
       "      <td>NaN</td>\n",
       "      <td>NaN</td>\n",
       "    </tr>\n",
       "    <tr>\n",
       "      <th>13</th>\n",
       "      <td>NaN</td>\n",
       "      <td>NaN</td>\n",
       "      <td>NaN</td>\n",
       "    </tr>\n",
       "    <tr>\n",
       "      <th>16</th>\n",
       "      <td>NaN</td>\n",
       "      <td>NaN</td>\n",
       "      <td>NaN</td>\n",
       "    </tr>\n",
       "    <tr>\n",
       "      <th>19</th>\n",
       "      <td>NaN</td>\n",
       "      <td>NaN</td>\n",
       "      <td>NaN</td>\n",
       "    </tr>\n",
       "  </tbody>\n",
       "</table>\n",
       "</div>"
      ],
      "text/plain": [
       "      a    b    c\n",
       "1   3.0  2.0  2.0\n",
       "4   2.0  4.0  6.0\n",
       "7   NaN  NaN  NaN\n",
       "10  NaN  NaN  NaN\n",
       "13  NaN  NaN  NaN\n",
       "16  NaN  NaN  NaN\n",
       "19  NaN  NaN  NaN"
      ]
     },
     "execution_count": 2,
     "metadata": {},
     "output_type": "execute_result"
    }
   ],
   "source": [
    "data = {'a' : [1,3,34,1,2,23,3] , 'b' : [3,2,3,4,4,5 , 7],'c' : [1,2,3,5,6,8,4]}\n",
    "df =pd.DataFrame(data)\n",
    "df.reindex(index =[1,4,7,10,13,16,19] , columns = ['a' ,'b','c'])"
   ]
  },
  {
   "cell_type": "markdown",
   "id": "8051dc0b-a1a6-49d5-83e6-7f5889b0de17",
   "metadata": {},
   "source": [
    "Q3"
   ]
  },
  {
   "cell_type": "code",
   "execution_count": 3,
   "id": "2a116542-0336-4ed6-95fd-4787c88a01c4",
   "metadata": {},
   "outputs": [
    {
     "name": "stdout",
     "output_type": "stream",
     "text": [
      "60\n"
     ]
    }
   ],
   "source": [
    "data = {'column' : [10, 20, 30, 40, 50],}\n",
    "df1 = pd.DataFrame(data)\n",
    "sum = 0\n",
    "for i in df1['column']:\n",
    "    if i <40:\n",
    "        sum = sum + i\n",
    "    else:\n",
    "        break\n",
    "    \n",
    "print(sum)"
   ]
  },
  {
   "cell_type": "markdown",
   "id": "9a260205-959f-44f2-a8e0-e1b0546b6511",
   "metadata": {},
   "source": [
    "Q4"
   ]
  },
  {
   "cell_type": "code",
   "execution_count": 4,
   "id": "0f518b68-45a2-4c9d-959d-e8d36d266afb",
   "metadata": {},
   "outputs": [
    {
     "data": {
      "text/html": [
       "<div>\n",
       "<style scoped>\n",
       "    .dataframe tbody tr th:only-of-type {\n",
       "        vertical-align: middle;\n",
       "    }\n",
       "\n",
       "    .dataframe tbody tr th {\n",
       "        vertical-align: top;\n",
       "    }\n",
       "\n",
       "    .dataframe thead th {\n",
       "        text-align: right;\n",
       "    }\n",
       "</style>\n",
       "<table border=\"1\" class=\"dataframe\">\n",
       "  <thead>\n",
       "    <tr style=\"text-align: right;\">\n",
       "      <th></th>\n",
       "      <th>Text</th>\n",
       "      <th>Word_Count</th>\n",
       "    </tr>\n",
       "  </thead>\n",
       "  <tbody>\n",
       "    <tr>\n",
       "      <th>0</th>\n",
       "      <td>Aadil Ali this side I'm currently learning dat...</td>\n",
       "      <td>9</td>\n",
       "    </tr>\n",
       "    <tr>\n",
       "      <th>1</th>\n",
       "      <td>Sahil Ansari</td>\n",
       "      <td>2</td>\n",
       "    </tr>\n",
       "    <tr>\n",
       "      <th>2</th>\n",
       "      <td>Sudhanshu Sir hi</td>\n",
       "      <td>3</td>\n",
       "    </tr>\n",
       "    <tr>\n",
       "      <th>3</th>\n",
       "      <td>Hello</td>\n",
       "      <td>1</td>\n",
       "    </tr>\n",
       "  </tbody>\n",
       "</table>\n",
       "</div>"
      ],
      "text/plain": [
       "                                                Text  Word_Count\n",
       "0  Aadil Ali this side I'm currently learning dat...           9\n",
       "1                                       Sahil Ansari           2\n",
       "2                                  Sudhanshu Sir hi            3\n",
       "3                                              Hello           1"
      ]
     },
     "execution_count": 4,
     "metadata": {},
     "output_type": "execute_result"
    }
   ],
   "source": [
    "data  = {'Text' : [\"Aadil Ali this side I'm currently learning data science\" , \"Sahil Ansari\" , \"Sudhanshu Sir hi \" , \"Hello\"]}\n",
    "df2 =pd.DataFrame(data)\n",
    "df2[\"Word_Count\"] = df2['Text'].str.split().str.len()\n",
    "df2"
   ]
  },
  {
   "cell_type": "markdown",
   "id": "a7fba61f-fa6e-4295-97bd-346ebd96684a",
   "metadata": {},
   "source": [
    "Q5"
   ]
  },
  {
   "cell_type": "markdown",
   "id": "3b0c797c-7807-4b8d-bde0-b9f22a9e4784",
   "metadata": {},
   "source": [
    "Pandas DataFrame size():\n",
    "\n",
    "\n",
    "The size property is used to get an int representing the number of elements in this object and Return the number of rows if Series. Otherwise, return the number of rows times the number of columns if DataFrame.\n",
    "\n",
    "Syntax: dataframe.size\n",
    "Return : Returns size of dataframe/series which is equivalent to total number of elements. That is rows x columns.\n",
    "\n",
    "\n",
    "Pandas DataFrame shape()\n",
    "\n",
    "\n",
    "The shape property is used to get a tuple representing the dimensionality of the Pandas DataFrame\n",
    "Syntax: dataframe.shape\n",
    "Return : Returns tuple of shape (Rows, columns) of dataframe/series"
   ]
  },
  {
   "cell_type": "markdown",
   "id": "370a0edb-0183-4ee6-97e2-b3d009bb5dce",
   "metadata": {},
   "source": [
    "Q6\n",
    "\n",
    "Pandas read_excel()"
   ]
  },
  {
   "cell_type": "markdown",
   "id": "e45b0786-9a84-4d65-b1c4-479058d7c0c4",
   "metadata": {},
   "source": [
    "Q7"
   ]
  },
  {
   "cell_type": "code",
   "execution_count": 6,
   "id": "911813ff-cd9a-4b54-be70-95c2cb87ae7b",
   "metadata": {},
   "outputs": [
    {
     "name": "stdout",
     "output_type": "stream",
     "text": [
      "                    Email     Username\n",
      "0     Aadilali@domain.com     Aadilali\n",
      "1  SahilAnsari@domail.com  SahilAnsari\n",
      "2   Sudhanshu@domain.com     Sudhanshu\n",
      "3         Hello@domaincom        Hello\n"
     ]
    }
   ],
   "source": [
    "import pandas as pd\n",
    "\n",
    "def extract_username(df):\n",
    "    df['Username'] = df['Email'].str.split('@').str[0]\n",
    "    return df\n",
    "\n",
    "\n",
    "df  = pd.DataFrame({'Email' : [\"Aadilali@domain.com\" , \"SahilAnsari@domail.com\" , \"Sudhanshu@domain.com \" , \"Hello@domaincom\"]})\n",
    "df_with_username = extract_username(df)\n",
    "print(df_with_username)"
   ]
  },
  {
   "cell_type": "markdown",
   "id": "1110e80c-61d2-451b-86d2-41bdaf9b5b08",
   "metadata": {},
   "source": [
    "Q8"
   ]
  },
  {
   "cell_type": "code",
   "execution_count": 4,
   "id": "e1078dd2-8c89-4e00-ab5f-b9c0e57742b8",
   "metadata": {},
   "outputs": [
    {
     "name": "stdout",
     "output_type": "stream",
     "text": [
      "   A  B  C\n",
      "1  8  2  7\n",
      "2  6  9  4\n",
      "4  9  1  2\n"
     ]
    }
   ],
   "source": [
    "\n",
    "import pandas as pd\n",
    "\n",
    "def select_rows(df):\n",
    "    selected_rows = df[(df['A'] > 5) & (df['B'] < 10)]\n",
    "    return selected_rows\n",
    "\n",
    "df =pd.DataFrame( {'A' : [3,8,6,2,9], 'B' : [5,2,9,3,1] ,'C':[1,7,4,5,2] })\n",
    "selected_rows = select_rows(df)\n",
    "print(selected_rows)\n"
   ]
  },
  {
   "cell_type": "markdown",
   "id": "29023bc1-5e0f-45fe-917d-aba3f2e21656",
   "metadata": {},
   "source": [
    "Q9"
   ]
  },
  {
   "cell_type": "code",
   "execution_count": 7,
   "id": "5ff6b8c4-08e6-4a84-81e3-90fc1ed3110d",
   "metadata": {},
   "outputs": [
    {
     "name": "stdout",
     "output_type": "stream",
     "text": [
      "Mean: 30.0\n",
      "Median: 30.0\n",
      "Standard Deviation: 15.811388300841896\n"
     ]
    }
   ],
   "source": [
    "import pandas as pd\n",
    "\n",
    "def calculate_statistics(df):\n",
    "    mean_value = df['Values'].mean()\n",
    "    median_value = df['Values'].median()\n",
    "    std_value = df['Values'].std()\n",
    "    return mean_value, median_value, std_value\n",
    "\n",
    "# Example usage\n",
    "df = pd.DataFrame({'Values': [10, 20, 30, 40, 50]})\n",
    "\n",
    "mean, median, std = calculate_statistics(df)\n",
    "print(\"Mean:\", mean)\n",
    "print(\"Median:\", median)\n",
    "print(\"Standard Deviation:\", std)\n"
   ]
  },
  {
   "cell_type": "markdown",
   "id": "21cf4a7a-aaa5-41b3-8328-ef444b8d0d9f",
   "metadata": {},
   "source": [
    "Q10"
   ]
  },
  {
   "cell_type": "code",
   "execution_count": 3,
   "id": "8f14cf39-736c-4217-8e91-d3b4eb41ede7",
   "metadata": {},
   "outputs": [
    {
     "name": "stdout",
     "output_type": "stream",
     "text": [
      "         Date  Sales  MovingAverage\n",
      "0  2023-07-01     10      10.000000\n",
      "1  2023-07-02     12      11.000000\n",
      "2  2023-07-03      8      10.000000\n",
      "3  2023-07-04     14      11.000000\n",
      "4  2023-07-05     11      11.000000\n",
      "5  2023-07-06      9      10.666667\n",
      "6  2023-07-07     13      11.000000\n",
      "7  2023-07-08     15      11.714286\n"
     ]
    }
   ],
   "source": [
    "import pandas as pd\n",
    "\n",
    "def calculate_moving_average(df):\n",
    "    df['MovingAverage'] = df['Sales'].rolling(window=7, min_periods=1).mean()\n",
    "    return df\n",
    "\n",
    "# Example usage\n",
    "df = pd.DataFrame({'Date': ['2023-07-01', '2023-07-02', '2023-07-03', '2023-07-04', '2023-07-05', '2023-07-06', '2023-07-07', '2023-07-08'],\n",
    "                   'Sales': [10, 12, 8, 14, 11, 9, 13, 15]})\n",
    "\n",
    "df_with_ma = calculate_moving_average(df)\n",
    "print(df_with_ma)\n",
    "\n"
   ]
  },
  {
   "cell_type": "markdown",
   "id": "0cd8e803-b836-45fd-bb4c-2e3e7cccb38b",
   "metadata": {},
   "source": [
    "Q11\n",
    "\n",
    "To create a new column 'Weekday' in the DataFrame 'df' that contains the weekday names corresponding to each date in the 'Date' column, you can use the dt.weekday_name attribute of the Pandas datetime objects. Here's a Python function that accomplishes this:"
   ]
  },
  {
   "cell_type": "code",
   "execution_count": 12,
   "id": "938da273-0ae4-440d-8582-f64a541f5ea1",
   "metadata": {},
   "outputs": [
    {
     "name": "stdout",
     "output_type": "stream",
     "text": [
      "         Date    Weekday\n",
      "0  2023-07-01   Saturday\n",
      "1  2023-07-02     Sunday\n",
      "2  2023-07-03     Monday\n",
      "3  2023-07-04    Tuesday\n",
      "4  2023-07-05  Wednesday\n",
      "5  2023-07-06   Thursday\n",
      "6  2023-07-07     Friday\n",
      "7  2023-07-08   Saturday\n"
     ]
    }
   ],
   "source": [
    "import pandas as pd\n",
    "\n",
    "def add_weekday_column(df):\n",
    "    df['Weekday'] = pd.to_datetime(df['Date']).dt.strftime(\"%A\")\n",
    "    \n",
    "    return df\n",
    "# Example usage\n",
    "df = pd.DataFrame({'Date': ['2023-07-01', '2023-07-02', '2023-07-03', '2023-07-04', '2023-07-05', '2023-07-06', '2023-07-07', '2023-07-08']})\n",
    "\n",
    "df_with_weekday = add_weekday_column(df)\n",
    "print(df_with_weekday)\n"
   ]
  },
  {
   "cell_type": "markdown",
   "id": "6544a56f-d142-48f1-be78-08e241c1c6d0",
   "metadata": {},
   "source": [
    "Q12"
   ]
  },
  {
   "cell_type": "code",
   "execution_count": 15,
   "id": "31a677f3-1211-4394-a5bc-51547dfb1017",
   "metadata": {},
   "outputs": [
    {
     "name": "stdout",
     "output_type": "stream",
     "text": [
      "         Date\n",
      "1  2023-01-15\n",
      "2  2023-01-20\n",
      "4  2023-01-10\n"
     ]
    }
   ],
   "source": [
    "import pandas as pd\n",
    "\n",
    "def select_rows_between_dates(df):\n",
    "    start_date = pd.to_datetime('2023-01-01')\n",
    "    end_date = pd.to_datetime('2023-01-31')\n",
    "    mask = (df['Date'] >= str(start_date)) & (df['Date'] <= str(end_date))\n",
    "    selected_rows = df.loc[mask]\n",
    "    return selected_rows\n",
    "\n",
    "# Example usage\n",
    "df = pd.DataFrame({'Date': ['2023-01-01', '2023-01-15', '2023-01-20', '2023-02-05', '2023-01-10']})\n",
    "\n",
    "selected_rows = select_rows_between_dates(df)\n",
    "print(selected_rows)\n"
   ]
  },
  {
   "cell_type": "markdown",
   "id": "75f70e8c-ba90-4973-80e8-52b812698c23",
   "metadata": {},
   "source": [
    "Q13\n",
    "\n",
    "import pandas as pd\n"
   ]
  },
  {
   "cell_type": "code",
   "execution_count": null,
   "id": "d35f7940-86e5-4e0f-9680-32f3b595dd28",
   "metadata": {},
   "outputs": [],
   "source": []
  }
 ],
 "metadata": {
  "kernelspec": {
   "display_name": "Python 3 (ipykernel)",
   "language": "python",
   "name": "python3"
  },
  "language_info": {
   "codemirror_mode": {
    "name": "ipython",
    "version": 3
   },
   "file_extension": ".py",
   "mimetype": "text/x-python",
   "name": "python",
   "nbconvert_exporter": "python",
   "pygments_lexer": "ipython3",
   "version": "3.10.8"
  }
 },
 "nbformat": 4,
 "nbformat_minor": 5
}
