{
 "cells": [
  {
   "cell_type": "markdown",
   "id": "c6fcd29f-511b-453b-ac8c-96d9004a710a",
   "metadata": {},
   "source": [
    "Q1\n",
    "\n",
    "When creating a custom exception class in Python, it is recommended to subclass an existing exception class, such as `Exception` or one of its subclasses. Here are a few reasons why it is beneficial to inherit from an exception class:\n",
    "\n",
    "1. **Code compatibility**: Inheriting from an existing exception class ensures that your custom exception is compatible with the existing exception handling mechanisms in Python. It allows your custom exception to be caught by generic `except` blocks that handle broader exception types.\n",
    "\n",
    "2. **Consistent behavior**: Inheriting from a base exception class ensures that your custom exception inherits the behavior and functionality of the base class. This includes attributes, methods, and behavior defined in the base class, such as `__str__()` for string representation or `args` for storing exception arguments.\n",
    "\n",
    "3. **Clear intent and readability**: By inheriting from a specific exception class, you convey the purpose and intent of your custom exception more explicitly. This helps other developers understand the nature of the exception and enables them to handle it appropriately.\n",
    "\n",
    "4. **Specialized handling**: Inheriting from an appropriate base exception class allows you to handle different types of exceptions separately. For example, you can have different `except` blocks to handle specific exception types differently, providing more specialized error handling or recovery mechanisms.\n",
    "\n"
   ]
  },
  {
   "cell_type": "markdown",
   "id": "ace67b75-f718-4086-8f7d-3a2ac19f3b6f",
   "metadata": {},
   "source": [
    "Q2\n",
    "\n",
    "Exception Hierarchy"
   ]
  },
  {
   "cell_type": "code",
   "execution_count": 13,
   "id": "307fd3c4-d0cc-4063-8292-105462954222",
   "metadata": {},
   "outputs": [
    {
     "name": "stdout",
     "output_type": "stream",
     "text": [
      "division by zero\n",
      "1.0\n",
      "unsupported operand type(s) for /: 'str' and 'int'\n"
     ]
    }
   ],
   "source": [
    "\n",
    "def devide(a,b):\n",
    "    try :\n",
    "        result = a/b\n",
    "        return result \n",
    "    except ZeroDivisionError as r:\n",
    "        return r\n",
    "    except ArithmeticError as r:\n",
    "        return r\n",
    "    except Exception as r:\n",
    "        return r\n",
    "    \n",
    "print(devide(10,0))\n",
    "print(devide(10,10))\n",
    "print(devide('10',0))\n"
   ]
  },
  {
   "cell_type": "markdown",
   "id": "8c47fba8-1cb2-4f32-93db-a7427b9f9e40",
   "metadata": {},
   "source": [
    "Q3"
   ]
  },
  {
   "cell_type": "markdown",
   "id": "f1aff4c3-35f1-4671-a9f6-7dacd4235100",
   "metadata": {},
   "source": [
    "The `ArithmeticError` class in Python is a base class for arithmetic-related exceptions. It captures a wide range of errors that can occur during arithmetic operations. Here are two examples of specific errors defined within the `ArithmeticError` class:\n",
    "\n",
    "1. **`ZeroDivisionError`**: This error occurs when attempting to divide a number by zero. It is a subclass of `ArithmeticError`. Here's an example:\n",
    "\n",
    "```python\n",
    "try:\n",
    "    result = 10 / 0\n",
    "except ZeroDivisionError as e:\n",
    "    print(\"Error:\", e)\n",
    "```\n",
    "\n",
    "Output:\n",
    "```\n",
    "Error: division by zero\n",
    "```\n",
    "\n",
    "In this example, dividing `10` by `0` raises a `ZeroDivisionError`, which is a specific type of `ArithmeticError`. The exception is caught, and the error message is printed.\n",
    "\n",
    "2. **`OverflowError`**: This error occurs when performing an arithmetic operation that results in a value that is too large to be represented by the numeric type. It is a subclass of `ArithmeticError`. Here's an example:\n",
    "\n",
    "```python\n",
    "import sys\n",
    "\n",
    "try:\n",
    "    result = sys.maxsize + 1\n",
    "except OverflowError as e:\n",
    "    print(\"Error:\", e)\n",
    "```\n",
    "\n",
    "Output:\n",
    "```\n",
    "Error: integer overflow\n",
    "```\n"
   ]
  },
  {
   "cell_type": "markdown",
   "id": "9aeafad4-c33e-4c21-abe5-0d1902a397a9",
   "metadata": {},
   "source": [
    "Q4"
   ]
  },
  {
   "cell_type": "markdown",
   "id": "244d5f37-6619-4a48-ac05-a6df5e629df6",
   "metadata": {},
   "source": [
    "The `LookupError` class in Python is a base class for exceptions that occur when an index or key lookup fails. It serves as a parent class for more specific lookup-related exceptions such as `IndexError` and `KeyError`. Here's an explanation of these two exceptions and how they are used:\n",
    "\n",
    "1. **`IndexError`**: This exception is raised when trying to access an index that is out of range in a sequence, such as a list or tuple. It is a subclass of `LookupError`. Here's an example:\n",
    "\n",
    "```python\n",
    "my_list = [1, 2, 3]\n",
    "\n",
    "try:\n",
    "    value = my_list[5]\n",
    "except IndexError as e:\n",
    "    print(\"Error:\", e)\n",
    "```\n",
    "\n",
    "Output:\n",
    "```\n",
    "Error: list index out of range\n",
    "```\n",
    "\n",
    "In this example, we attempt to access the element at index `5` in the `my_list`, but the list has only three elements. Since the index is out of range, an `IndexError` is raised, indicating that the list index is out of bounds. The exception is caught, and the error message is printed.\n",
    "\n",
    "2. **`KeyError`**: This exception is raised when trying to access a non-existent key in a dictionary. It is a subclass of `LookupError`. Here's an example:\n",
    "\n",
    "```python\n",
    "my_dict = {\"a\": 1, \"b\": 2}\n",
    "\n",
    "try:\n",
    "    value = my_dict[\"c\"]\n",
    "except KeyError as e:\n",
    "    print(\"Error:\", e)\n",
    "```\n",
    "\n",
    "Output:\n",
    "```\n",
    "Error: 'c'\n",
    "```\n"
   ]
  },
  {
   "cell_type": "markdown",
   "id": "b1c60409-1132-4607-a21d-831945adb353",
   "metadata": {},
   "source": [
    "Q5"
   ]
  },
  {
   "cell_type": "markdown",
   "id": "d19c847b-8413-459b-aa7d-7fb6119bdc2b",
   "metadata": {},
   "source": [
    "The `ImportError` exception is raised when an import statement fails to import a module or a specific name from a module. It occurs when Python encounters an issue while trying to locate and load the desired module or name.\n",
    "\n",
    "\n",
    "\n",
    "Here's an example that demonstrates an `ImportError` when trying to import a non-existent module:\n",
    "\n",
    "```python\n",
    "try:\n",
    "    import non_existent_module\n",
    "except ImportError as e:\n",
    "    print(\"Error:\", e)\n",
    "```\n",
    "\n",
    "Output:\n",
    "```\n",
    "Error: No module named 'non_existent_module'\n",
    "```\n",
    "\n",
    "In this example, we attempt to import a module called `non_existent_module`, which does not exist. As a result, an `ImportError` is raised, indicating that there is no module with that name. The exception is caught, and the error message is printed.\n",
    "\n"
   ]
  },
  {
   "cell_type": "markdown",
   "id": "430d8794-4148-4c83-abff-539c4a760a2a",
   "metadata": {},
   "source": [
    "Q6"
   ]
  },
  {
   "cell_type": "markdown",
   "id": "d8bb6c3a-a5c2-47c4-861d-4b30898c759d",
   "metadata": {},
   "source": [
    "Here are some best practices for exception handling in Python:\n",
    "\n",
    "1. **Catch Specific Exceptions**: Catch specific exception types whenever possible, rather than catching the base `Exception` class. This allows you to handle different types of exceptions differently and provides more targeted and appropriate error handling.\n",
    "\n",
    "2. **Use Multiple Except Blocks**: Use multiple `except` blocks to handle different exception types separately. Arrange the `except` blocks from the most specific exception to the more general ones. This ensures that exceptions are caught and handled in the appropriate order.\n",
    "\n",
    "3. **Handle Exceptions Gracefully**: Provide meaningful error messages or feedback to users when exceptions occur. Avoid displaying raw exception messages to users, as they may expose sensitive information or be confusing to non-technical users. Instead, provide informative error messages that help users understand the issue and guide them towards resolution.\n",
    "\n",
    "4. **Avoid Silent Failures**: Avoid catching exceptions and silently ignoring them without any handling or logging. Silent failures can lead to unexpected behavior and make it difficult to identify and diagnose issues. If you catch an exception, ensure that you handle it appropriately, whether it's by providing an alternative solution, logging the error, or notifying the user.\n",
    "\n",
    "5. **Use Finally Block**: Use the `finally` block to include cleanup code that must be executed regardless of whether an exception occurs or not. The `finally` block ensures that resources are properly released, connections are closed, or any other necessary cleanup operations are performed.\n",
    "\n",
    "6. **Reraise Exceptions When Appropriate**: Sometimes, it may be necessary to catch an exception, perform some additional actions, and then re-raise the exception to propagate it up the call stack. This can be done using `raise` without any arguments. Reraising exceptions can help in preserving the original exception context and allowing it to be handled at a higher level.\n",
    "\n",
    "7. **Use Custom Exceptions**: Define custom exception classes when you encounter specific types of errors in your application. Custom exceptions can provide more meaningful and descriptive error messages, and they can be caught and handled specifically.\n",
    "\n",
    "8. **Keep Error Logs**: Implement error logging to record exceptions and related information. Logging exceptions can help in diagnosing and troubleshooting issues in production environments. Use a suitable logging library, such as the built-in `logging` module, to handle error logging efficiently.\n",
    "\n",
    "9. **Test Exceptional Cases**: Write test cases that cover exceptional cases and ensure that exceptions are handled correctly. This helps in identifying and addressing potential issues in your exception handling logic.\n"
   ]
  },
  {
   "cell_type": "code",
   "execution_count": null,
   "id": "ff4084d5-179c-43b6-8ed5-0572e51c8334",
   "metadata": {},
   "outputs": [],
   "source": []
  }
 ],
 "metadata": {
  "kernelspec": {
   "display_name": "Python 3 (ipykernel)",
   "language": "python",
   "name": "python3"
  },
  "language_info": {
   "codemirror_mode": {
    "name": "ipython",
    "version": 3
   },
   "file_extension": ".py",
   "mimetype": "text/x-python",
   "name": "python",
   "nbconvert_exporter": "python",
   "pygments_lexer": "ipython3",
   "version": "3.10.8"
  }
 },
 "nbformat": 4,
 "nbformat_minor": 5
}
