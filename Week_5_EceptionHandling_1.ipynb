{
 "cells": [
  {
   "cell_type": "markdown",
   "id": "90611efc-9c89-4b66-b803-04db7eabb710",
   "metadata": {},
   "source": [
    "Q1\n",
    "\n",
    "An exception in Python is an incident that happens while executing a program that causes the regular course of the program's commands to be disrupted\n",
    "\n",
    "Diffrence \n",
    "\n",
    "An error is an issue in a program that prevents the program from completing its task. In comparison, an exception is a condition that interrupts the normal flow of the program"
   ]
  },
  {
   "cell_type": "markdown",
   "id": "31081f74-f77e-4fac-afbf-109ffe07bb0e",
   "metadata": {},
   "source": [
    "Q2\n",
    "\n",
    "If we don't handle exceptions in Python, the program will terminate abruptly when an exception occurs. This means that any remaining code after the exception will not be executed, and the program may not have a chance to clean up or handle the error gracefully."
   ]
  },
  {
   "cell_type": "code",
   "execution_count": 1,
   "id": "ed92f72e-919e-4c25-a6d5-9555aeb098a3",
   "metadata": {},
   "outputs": [
    {
     "ename": "ZeroDivisionError",
     "evalue": "division by zero",
     "output_type": "error",
     "traceback": [
      "\u001b[0;31m---------------------------------------------------------------------------\u001b[0m",
      "\u001b[0;31mZeroDivisionError\u001b[0m                         Traceback (most recent call last)",
      "Cell \u001b[0;32mIn[1], line 6\u001b[0m\n\u001b[1;32m      3\u001b[0m     result \u001b[38;5;241m=\u001b[39m a\u001b[38;5;241m/\u001b[39mb\n\u001b[1;32m      4\u001b[0m     \u001b[38;5;28mprint\u001b[39m(\u001b[38;5;124m\"\u001b[39m\u001b[38;5;124mResult is \u001b[39m\u001b[38;5;124m\"\u001b[39m , result)\n\u001b[0;32m----> 6\u001b[0m \u001b[43mdevide\u001b[49m\u001b[43m(\u001b[49m\u001b[38;5;241;43m10\u001b[39;49m\u001b[43m,\u001b[49m\u001b[38;5;241;43m0\u001b[39;49m\u001b[43m)\u001b[49m\n\u001b[1;32m      7\u001b[0m \u001b[38;5;28mprint\u001b[39m(\u001b[38;5;124m\"\u001b[39m\u001b[38;5;124mthis code will not run\u001b[39m\u001b[38;5;124m\"\u001b[39m)\n",
      "Cell \u001b[0;32mIn[1], line 3\u001b[0m, in \u001b[0;36mdevide\u001b[0;34m(a, b)\u001b[0m\n\u001b[1;32m      2\u001b[0m \u001b[38;5;28;01mdef\u001b[39;00m \u001b[38;5;21mdevide\u001b[39m(a,b):\n\u001b[0;32m----> 3\u001b[0m     result \u001b[38;5;241m=\u001b[39m \u001b[43ma\u001b[49m\u001b[38;5;241;43m/\u001b[39;49m\u001b[43mb\u001b[49m\n\u001b[1;32m      4\u001b[0m     \u001b[38;5;28mprint\u001b[39m(\u001b[38;5;124m\"\u001b[39m\u001b[38;5;124mResult is \u001b[39m\u001b[38;5;124m\"\u001b[39m , result)\n",
      "\u001b[0;31mZeroDivisionError\u001b[0m: division by zero"
     ]
    }
   ],
   "source": [
    "#Example \n",
    "def devide(a,b):\n",
    "    result = a/b\n",
    "    print(\"Result is \" , result)\n",
    "    \n",
    "devide(10,0)\n",
    "print(\"this code will not run\")\n"
   ]
  },
  {
   "cell_type": "markdown",
   "id": "52211cf5-4578-4316-a937-6b509b1f6e0c",
   "metadata": {},
   "source": [
    "Q3\n",
    "\n",
    "In Python, the statement used to catch and handle exceptions is called the try-except block. The try block is used to enclose the code that may raise an exception, and the except block is used to define the actions to be taken when a specific exception occurs"
   ]
  },
  {
   "cell_type": "code",
   "execution_count": 2,
   "id": "3635e63f-d657-4bc4-8dca-0bff294950f2",
   "metadata": {},
   "outputs": [
    {
     "name": "stdout",
     "output_type": "stream",
     "text": [
      "Error: Cannot divide by zero\n"
     ]
    }
   ],
   "source": [
    "#Example\n",
    "def divide_numbers(a, b):\n",
    "    try:\n",
    "        result = a / b\n",
    "        print(\"The result is:\", result)\n",
    "    except ZeroDivisionError:\n",
    "        print(\"Error: Cannot divide by zero\")\n",
    "\n",
    "# Calling the function with exception handling\n",
    "divide_numbers(10, 0)\n"
   ]
  },
  {
   "cell_type": "markdown",
   "id": "ec3a8d35-566a-4d34-9817-7ed9b03f6df2",
   "metadata": {},
   "source": [
    "Q4\n",
    "\n",
    "try-else : If an exception occurs within the try block, the program flow is immediately transferred to the corresponding except block, skipping the remaining code within the try block.\n",
    "\n",
    "Now, let's talk about the else block. The else block is an optional part of the try-except statement, and it is executed only if no exceptions occur within the try block.\n",
    "\n",
    "finally : In Python, the finally statement is used in conjunction with the try and except statements to define a block of code that will be executed regardless of whether an exception is raised or not. The finally block is executed after the try block and any matching except blocks.\n",
    "\n",
    "The finally statement is useful when you want to ensure that certain cleanup or closing operations are performed, such as closing a file or releasing system resources, regardless of whether an exception occurs or not.\n",
    "\n",
    "raise : In Python, the raise statement is used to explicitly raise an exception. It allows you to raise a specified exception or a custom exception at any point in your code. This can be useful when you want to handle exceptional situations or errors that may occur during the execution of your program."
   ]
  },
  {
   "cell_type": "markdown",
   "id": "eaac56a5-6551-4ae3-bc28-a130549632fa",
   "metadata": {},
   "source": [
    "Q5\n",
    "\n",
    "\n",
    "A custom exception, also known as a user-defined exception, is an exception class that you define yourself to represent a specific error or exceptional condition in your program. Python allows you to create custom exception classes by subclassing the built-in Exception class or any of its subclasses.\n",
    "\n",
    "By defining custom exceptions, you can handle specific errors or exceptional situations in a more granular and specialized way. This can help improve the readability, maintainability, and overall structure of your code by providing meaningful and descriptive exception types."
   ]
  },
  {
   "cell_type": "code",
   "execution_count": null,
   "id": "7e0674ef-8986-4d8e-a563-973b154b13f3",
   "metadata": {},
   "outputs": [],
   "source": [
    "class CustomException(Exception):\n",
    "    pass\n",
    "\n",
    "def some_function():\n",
    "    if some_condition:\n",
    "        raise CustomException(\"Custom exception occurred\")\n",
    "\n",
    "try:\n",
    "    some_function()\n",
    "except CustomException as error:\n",
    "    print(\"Custom Exception:\", error)\n"
   ]
  },
  {
   "cell_type": "markdown",
   "id": "cf8638ce-1a7d-41f5-bf53-624b60a1eec3",
   "metadata": {},
   "source": [
    "Q6"
   ]
  },
  {
   "cell_type": "code",
   "execution_count": 20,
   "id": "e1c5b474-a411-4fad-96d7-9274ea13b67a",
   "metadata": {},
   "outputs": [
    {
     "name": "stdin",
     "output_type": "stream",
     "text": [
      "What is your age -24\n"
     ]
    },
    {
     "name": "stdout",
     "output_type": "stream",
     "text": [
      "AgeException: Age is invalid\n"
     ]
    }
   ],
   "source": [
    "\n",
    "class AgeException(Exception):\n",
    "    pass\n",
    "age = int(input(\"What is your age\"))\n",
    "def age_varification():\n",
    "    if age<=0:\n",
    "        raise AgeException(\"Age is invalid\")\n",
    "    elif age>=150:\n",
    "        raise AgeException(\"Age is Invalid\")\n",
    "\n",
    "try:\n",
    "    age_varification()\n",
    "except AgeException as error:\n",
    "    print(\"AgeException:\", error)\n",
    "    \n",
    "else:\n",
    "    print(\"Age is Valid\")\n"
   ]
  },
  {
   "cell_type": "code",
   "execution_count": null,
   "id": "12006117-78ff-45e5-8a49-a781df5f8e84",
   "metadata": {},
   "outputs": [],
   "source": []
  }
 ],
 "metadata": {
  "kernelspec": {
   "display_name": "Python 3 (ipykernel)",
   "language": "python",
   "name": "python3"
  },
  "language_info": {
   "codemirror_mode": {
    "name": "ipython",
    "version": 3
   },
   "file_extension": ".py",
   "mimetype": "text/x-python",
   "name": "python",
   "nbconvert_exporter": "python",
   "pygments_lexer": "ipython3",
   "version": "3.10.8"
  }
 },
 "nbformat": 4,
 "nbformat_minor": 5
}
