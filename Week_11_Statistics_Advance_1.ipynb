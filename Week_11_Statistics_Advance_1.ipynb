{
 "cells": [
  {
   "cell_type": "markdown",
   "id": "aa00334a-4ba6-433c-ba14-1706890f452d",
   "metadata": {},
   "source": [
    "Q1. \n",
    "\n",
    "In machine learning, the Probability Density Function (PDF) is a fundamental concept in statistics and probability theory. It's used to describe the likelihood of a continuous random variable taking on a specific value within a given range. The PDF provides a way to quantify the distribution of the random variable's values and is an essential component when dealing with continuous data and probability calculations.\n",
    "\n",
    "\n",
    "\n"
   ]
  },
  {
   "cell_type": "markdown",
   "id": "3f25d1be-9a08-4c38-8d26-3f7644e934b0",
   "metadata": {},
   "source": [
    "Q2\n",
    "\n",
    "Discrete Distributions:\n",
    "\n",
    "1) Bernoulli Distribution: Models a binary outcome (success/failure) with a fixed probability.\n",
    "\n",
    "2) Binomial Distribution: Describes the number of successes in a fixed number of independent Bernoulli trials.\n",
    "\n",
    "3) Poisson Distribution: Models the number of events occurring in a fixed interval of time or space, assuming events are rare and independent.\n",
    "\n",
    "Continuous Distributions:\n",
    "\n",
    "1) Normal (Gaussian) Distribution: One of the most common distributions, characterized by its bell-shaped curve. Many natural phenomena tend to follow this distribution due to the central limit theorem.\n",
    "2) Exponential Distribution: Models the time between events in a Poisson process (events occurring continuously and independently over time).\n",
    "3) Uniform Distribution: All values within a certain range are equally likely to occur.\n",
    "\n"
   ]
  },
  {
   "cell_type": "code",
   "execution_count": 1,
   "id": "0e0440d9-3907-40d7-8528-45eae2a371ca",
   "metadata": {},
   "outputs": [
    {
     "name": "stdout",
     "output_type": "stream",
     "text": [
      "PDF at x = 0.5: 0.3520653267642995\n"
     ]
    }
   ],
   "source": [
    "#Q3\n",
    "\n",
    "import numpy as np\n",
    "import math\n",
    "\n",
    "def normal_pdf(x, mean, std_dev):\n",
    "    \"\"\"\n",
    "    Calculate the probability density function of a normal distribution at a given point.\n",
    "    \n",
    "    Args:\n",
    "        x (float): The point at which to evaluate the PDF.\n",
    "        mean (float): Mean of the normal distribution.\n",
    "        std_dev (float): Standard deviation of the normal distribution.\n",
    "    \n",
    "    Returns:\n",
    "        float: The value of the PDF at the given point.\n",
    "    \"\"\"\n",
    "    exponent = -(x - mean)**2 / (2 * std_dev**2)\n",
    "    pdf_value = (1 / (std_dev * math.sqrt(2 * math.pi))) * np.exp(exponent)\n",
    "    return pdf_value\n",
    "\n",
    "# Example usage\n",
    "mean = 0\n",
    "std_dev = 1\n",
    "x_value = 0.5\n",
    "pdf_at_x = normal_pdf(x_value, mean, std_dev)\n",
    "print(f\"PDF at x = {x_value}: {pdf_at_x}\")\n"
   ]
  },
  {
   "cell_type": "markdown",
   "id": "9666b260-f7ac-45b3-a747-eccee26598dd",
   "metadata": {},
   "source": [
    "Q4\n",
    "\n",
    "\n",
    "The binomial distribution is a discrete probability distribution that models the number of successes in a fixed number of independent Bernoulli trials. Here are some properties of the binomial distribution:\n",
    "\n",
    "1) Fixed Number of Trials: The binomial distribution is defined for a fixed number of trials, denoted as \"n.\"\n",
    "\n",
    "2) Two Outcomes: Each trial results in one of two possible outcomes, often referred to as \"success\" and \"failure.\"\n",
    "\n",
    "3) Independent Trials: The trials are assumed to be independent, meaning the outcome of one trial doesn't affect the outcome of other trials.\n",
    "\n",
    "4) Constant Probability: The probability of success (denoted as \"p\") remains constant for each trial.\n",
    "\n",
    "5) Discrete Distribution: The binomial distribution deals with discrete random variables, specifically the count of successes.\n",
    "\n",
    "6) Probability Mass Function (PMF): The PMF of the binomial distribution gives the probability of observing a specific number of successes in \"n\" trials.\n",
    "\n",
    "Examples of events where the binomial distribution can be applied:\n",
    "\n",
    "1) Coin Flipping: When flipping a fair coin multiple times, each flip can be considered a Bernoulli trial. The outcome is either heads (success) or tails (failure). The number of heads obtained in a fixed number of flips follows a binomial distribution.\n",
    "\n",
    "2) Quality Control: Consider a manufacturing process where a certain percentage of items produced are defective. If we randomly select a fixed number of items from the production line and count the number of defective items, the distribution of the number of defects follows a binomial distribution."
   ]
  },
  {
   "cell_type": "code",
   "execution_count": 20,
   "id": "89a89c72-f984-4f09-85dd-3f702b2b082a",
   "metadata": {},
   "outputs": [
    {
     "data": {
      "image/png": "[encoded data removed]",
      "text/plain": [
       "<Figure size 640x480 with 1 Axes>"
      ]
     },
     "metadata": {},
     "output_type": "display_data"
    }
   ],
   "source": [
    "#Q5\n",
    "\n",
    "import numpy as np\n",
    "import matplotlib.pyplot as plt\n",
    "\n",
    "# Parameters\n",
    "sample_size = 1000\n",
    "probability_of_success = 0.4\n",
    "number_of_trials = 1  # Since we're sampling from a binomial distribution with 1 trial per sample\n",
    "\n",
    "# Generate random sample from binomial distribution\n",
    "random_sample = np.random.binomial(number_of_trials, probability_of_success, sample_size)\n",
    "\n",
    "# Plot histogram\n",
    "plt.hist(random_sample, bins=np.arange(-0.5, 2.5, 1), align='mid', rwidth=0.8, density=True)\n",
    "plt.xlabel('Number of Successes')\n",
    "plt.ylabel('Probability')\n",
    "plt.title('Histogram of Binomial Distribution')\n",
    "plt.xticks(np.arange(0, number_of_trials + 1, 1))\n",
    "plt.show()\n"
   ]
  },
  {
   "cell_type": "code",
   "execution_count": 21,
   "id": "34877ef4-91c4-4c75-b4b1-16b40def9c0d",
   "metadata": {},
   "outputs": [
    {
     "name": "stdout",
     "output_type": "stream",
     "text": [
      "CDF at x = 3: 0.7575761331330659\n"
     ]
    }
   ],
   "source": [
    "#Q6\n",
    "\n",
    "import math\n",
    "\n",
    "def poisson_cdf(x, mean):\n",
    "    \"\"\"\n",
    "    Calculate the cumulative distribution function of a Poisson distribution at a given point.\n",
    "    \n",
    "    Args:\n",
    "        x (int): The point at which to evaluate the CDF.\n",
    "        mean (float): Mean of the Poisson distribution.\n",
    "    \n",
    "    Returns:\n",
    "        float: The value of the CDF at the given point.\n",
    "    \"\"\"\n",
    "    cdf_value = sum((mean**k * math.exp(-mean)) / math.factorial(k) for k in range(x + 1))\n",
    "    return cdf_value\n",
    "\n",
    "# Example usage\n",
    "mean = 2.5\n",
    "x_value = 3\n",
    "cdf_at_x = poisson_cdf(x_value, mean)\n",
    "print(f\"CDF at x = {x_value}: {cdf_at_x}\")\n"
   ]
  },
  {
   "cell_type": "markdown",
   "id": "e5267c07-5fbc-4f7d-b60f-ab545a7e65a3",
   "metadata": {},
   "source": [
    "Q7\n",
    "\n",
    "The binomial distribution and the Poisson distribution are both discrete probability distributions used to model the number of events in a certain context, but they have different characteristics and are suited for different types of situations. Here's a comparison of the two distributions:\n",
    "\n",
    "**Binomial Distribution:**\n",
    "\n",
    "1. **Number of Trials:** The binomial distribution is associated with a fixed number of independent trials, denoted as \"n.\"\n",
    "\n",
    "2. **Two Outcomes:** Each trial has two possible outcomes: success (usually denoted as \"S\") or failure (usually denoted as \"F\").\n",
    "\n",
    "3. **Constant Probability:** The probability of success, denoted as \"p,\" remains the same for all trials.\n",
    "\n",
    "4. **Success Count:** The binomial distribution models the count of successes in the fixed number of trials.\n",
    "\n",
    "5. **Assumption:** The trials are assumed to be independent and identically distributed.\n",
    "\n",
    "6. **Distribution Shape:** The binomial distribution can have a skewed or symmetric shape, depending on the values of \"n\" and \"p.\"\n",
    "\n",
    "7. **Examples:** Coin flipping, quality control, survey responses, medical trials, online ad clicks.\n",
    "\n",
    "**Poisson Distribution:**\n",
    "\n",
    "1. **Rate of Events:** The Poisson distribution is used to model the number of events that occur in a fixed interval of time or space.\n",
    "\n",
    "2. **Infinitesimal Probability:** The probability of more than one event occurring in an infinitesimally small interval is nearly zero.\n",
    "\n",
    "3. **Parameter:** The distribution is characterized by a single parameter, denoted as \"λ\" (lambda), which represents the average rate of events occurring in the given interval.\n",
    "\n",
    "4. **Event Count:** The Poisson distribution models the count of events within the interval.\n",
    "\n",
    "5. **Assumption:** Events are assumed to occur independently of each other and at a constant average rate.\n",
    "\n",
    "6. **Distribution Shape:** The Poisson distribution tends to have a right-skewed shape, especially for larger values of \"λ.\"\n",
    "\n",
    "7. **Examples:** Phone call arrivals at a call center, the number of accidents on a highway in a day, the number of emails received in an hour.\n",
    "\n",
    "In summary, the binomial distribution is suited for situations where you have a fixed number of independent trials, each with a constant probability of success, and you're interested in the count of successes. On the other hand, the Poisson distribution is used when you're dealing with a continuous flow of events over time or space, and you're interested in the count of events within a fixed interval. The choice between the two distributions depends on the specific characteristics of the data and the context in which they are being used."
   ]
  },
  {
   "cell_type": "code",
   "execution_count": 22,
   "id": "7a047b9d-e6fd-464b-9a4a-4ea2b4b077d6",
   "metadata": {},
   "outputs": [
    {
     "name": "stdout",
     "output_type": "stream",
     "text": [
      "Sample Mean: 5.131\n",
      "Sample Variance: 5.441839000000002\n"
     ]
    }
   ],
   "source": [
    "#Q8\n",
    "\n",
    "import numpy as np\n",
    "\n",
    "# Parameters\n",
    "sample_size = 1000\n",
    "mean = 5\n",
    "\n",
    "# Generate random sample from Poisson distribution\n",
    "random_sample = np.random.poisson(mean, sample_size)\n",
    "\n",
    "# Calculate sample mean and variance\n",
    "sample_mean = np.mean(random_sample)\n",
    "sample_variance = np.var(random_sample)\n",
    "\n",
    "print(f\"Sample Mean: {sample_mean}\")\n",
    "print(f\"Sample Variance: {sample_variance}\")\n"
   ]
  },
  {
   "cell_type": "markdown",
   "id": "734ba880-c239-4354-916a-235a1de6709f",
   "metadata": {},
   "source": [
    "Q9\n",
    "\n",
    "Both the mean and variance play important roles in describing the characteristics of a probability distribution, including the binomial and Poisson distributions. The relationship between mean (\\( \\mu \\)) and variance (\\( \\sigma^2 \\)) varies based on the distribution:\n",
    "\n",
    "**Binomial Distribution:**\n",
    "\n",
    "For a binomial distribution with parameters \\( n \\) (number of trials) and \\( p \\) (probability of success), the mean and variance are related as follows:\n",
    "\n",
    "- Mean: \\( \\mu = np \\)\n",
    "- Variance: \\( \\sigma^2 = np(1 - p) \\)\n",
    "\n",
    "In the binomial distribution, the mean represents the expected number of successes, and the variance measures the spread or variability in the number of successes. The variance is highest when the probability of success (\\( p \\)) is close to 0.5 (equally likely success and failure outcomes) and decreases as \\( p \\) moves towards the extremes of 0 or 1.\n",
    "\n",
    "**Poisson Distribution:**\n",
    "\n",
    "For a Poisson distribution with parameter \\( \\lambda \\) (average rate of events), the mean and variance are related as follows:\n",
    "\n",
    "- Mean: \\( \\mu = \\lambda \\)\n",
    "- Variance: \\( \\sigma^2 = \\lambda \\)\n",
    "\n",
    "In the Poisson distribution, both the mean and variance are equal and are given by the parameter \\( \\lambda \\). This indicates that the distribution is characterized by a single parameter, \\( \\lambda \\), which represents the average rate of events occurring in a fixed interval. The variance of the Poisson distribution is often used as a measure of its dispersion.\n",
    "\n",
    "In summary, for both the binomial and Poisson distributions, the mean provides information about the central tendency, while the variance describes the variability or spread of the data around the mean. The relationships between mean and variance in these distributions help to quantify the distribution's behavior and characteristics.\n"
   ]
  },
  {
   "cell_type": "markdown",
   "id": "85504330-104c-4bae-be1a-decc7d87011c",
   "metadata": {},
   "source": [
    "Q10\n",
    "\n",
    "In a normal distribution, also known as a Gaussian distribution, the data is symmetrically distributed around the mean. This means that the data on the left side of the mean is a mirror image of the data on the right side of the mean. The point of symmetry, which is the mean itself, divides the distribution into two equal halves.\n",
    "\n",
    "Since the normal distribution is symmetric, the least frequent data appears at the tails of the distribution, which are the farthest points from the mean. The tails of the normal distribution represent the extreme values, and these values occur less frequently compared to the values near the mean.\n",
    "\n",
    "In other words, the data becomes increasingly less frequent as you move away from the mean in both directions. This is why you often hear phrases like \"outliers are in the tails of the distribution.\" Outliers are data points that are far from the mean and occur less frequently in a normal distribution.\n",
    "\n"
   ]
  },
  {
   "cell_type": "code",
   "execution_count": null,
   "id": "c41796ba-78ce-481c-af9e-fa6c5b803a7b",
   "metadata": {},
   "outputs": [],
   "source": []
  }
 ],
 "metadata": {
  "kernelspec": {
   "display_name": "Python 3 (ipykernel)",
   "language": "python",
   "name": "python3"
  },
  "language_info": {
   "codemirror_mode": {
    "name": "ipython",
    "version": 3
   },
   "file_extension": ".py",
   "mimetype": "text/x-python",
   "name": "python",
   "nbconvert_exporter": "python",
   "pygments_lexer": "ipython3",
   "version": "3.10.8"
  }
 },
 "nbformat": 4,
 "nbformat_minor": 5
}
