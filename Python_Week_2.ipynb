{
 "cells": [
  {
   "cell_type": "markdown",
   "id": "5736a65c-6eab-43ac-a881-9ccbf1ed5388",
   "metadata": {},
   "source": [
    "Q1.\n",
    "\n",
    "In python we have two type of comments Single Line Comment And Multiline Comment \n",
    "\n",
    "Single Line Comment : For this we use '#' \n",
    "\n",
    " Multi Line Comment : For this we use ''' Comment Here in Multi line  '''"
   ]
  },
  {
   "cell_type": "markdown",
   "id": "2abb1424-5b0d-4b72-9484-8b6d1f0b0292",
   "metadata": {},
   "source": [
    "Q2."
   ]
  },
  {
   "cell_type": "markdown",
   "id": "a644dd4f-5d1b-4ca8-9a8b-23e146b27119",
   "metadata": {},
   "source": [
    "Variables is like containers that store the values given by user.\n",
    "\n",
    "For Declaring a variable we simply write the name of varibale \n",
    "\n",
    "ex. Var1 = 34\n",
    "\n",
    "or Var2 = 'Aadil'"
   ]
  },
  {
   "cell_type": "markdown",
   "id": "f118dead-0076-4826-84cb-283521022fa7",
   "metadata": {},
   "source": [
    "Q3"
   ]
  },
  {
   "cell_type": "markdown",
   "id": "5c5f2d3d-ad24-4f39-9b54-d3e319b5b6cb",
   "metadata": {},
   "source": [
    "For Converting One data type to Another Data type  we use data type name"
   ]
  },
  {
   "cell_type": "code",
   "execution_count": 6,
   "id": "8c44ddc1-cbce-4d49-9e39-6d98dd7e660e",
   "metadata": {},
   "outputs": [
    {
     "name": "stdout",
     "output_type": "stream",
     "text": [
      "<class 'str'>\n",
      "<class 'int'>\n"
     ]
    }
   ],
   "source": [
    "#for example\n",
    "x = 34\n",
    "y = 4.5\n",
    "\n",
    "z = str(x)\n",
    "p = int(y)\n",
    "print(type(z))\n",
    "print(type(p))"
   ]
  },
  {
   "cell_type": "markdown",
   "id": "9b749b62-166d-47b7-9021-167e581ec1ed",
   "metadata": {},
   "source": [
    "Q4"
   ]
  },
  {
   "cell_type": "markdown",
   "id": "1b9344b3-fe94-4f75-8e5d-a67ac6984e46",
   "metadata": {},
   "source": [
    "How to Write : A Python script is just a plain text file, and the convention is to use the extension . py to let programs know that it holds Python code. \n",
    "\n",
    "How to Execute : The most basic and easy way to run a Python script is by using the python command. We need to open a command line and type the word python followed by the path to our script file like this: python first_script.py Hello World! Then hit the ENTER button from the keyboard, and that's it."
   ]
  },
  {
   "cell_type": "markdown",
   "id": "00c2178f-4708-4606-889a-973ae8dc6821",
   "metadata": {},
   "source": [
    "Q5"
   ]
  },
  {
   "cell_type": "code",
   "execution_count": 10,
   "id": "985d18e4-9952-4e7e-9f93-c26cfa17dfae",
   "metadata": {},
   "outputs": [
    {
     "data": {
      "text/plain": [
       "[2, 3]"
      ]
     },
     "execution_count": 10,
     "metadata": {},
     "output_type": "execute_result"
    }
   ],
   "source": [
    "my_list = [1, 2, 3, 4, 5]\n",
    "\n",
    "new_list = my_list[1:3]\n",
    "\n",
    "new_list\n"
   ]
  },
  {
   "cell_type": "markdown",
   "id": "103e3e55-610c-4a82-9474-235feeb1ba14",
   "metadata": {},
   "source": [
    "Q6"
   ]
  },
  {
   "cell_type": "markdown",
   "id": "861bc421-d9d6-4df3-a071-9785c2966526",
   "metadata": {},
   "source": [
    "Python helps to tackle and manipulate them. Complex numbers are created from two real numbers. We can create it directly or we can use the complex function. \n",
    "\n",
    "It is written in the form of (x + yj) where x and y are real numbers and j is an imaginary number which is the square root of -1."
   ]
  },
  {
   "cell_type": "markdown",
   "id": "7d924da6-c493-4c38-b777-4b77d5e814cf",
   "metadata": {},
   "source": [
    "Q7"
   ]
  },
  {
   "cell_type": "code",
   "execution_count": 11,
   "id": "2eff198b-5d05-40a5-bcc9-65927429a114",
   "metadata": {},
   "outputs": [],
   "source": [
    "# For creating age variable we can write this code \n",
    "Age = 25\n",
    "\n",
    "# It will automatically detect the data type "
   ]
  },
  {
   "cell_type": "markdown",
   "id": "d3865495-52fe-44a3-b0f6-42fa9394b69f",
   "metadata": {},
   "source": [
    "Q8"
   ]
  },
  {
   "cell_type": "markdown",
   "id": "0d35cbc1-e77e-4761-8707-cf6b49b692f0",
   "metadata": {},
   "source": [
    "This varible belong to 'float' data Type."
   ]
  },
  {
   "cell_type": "markdown",
   "id": "ae0d9cf0-999d-4b3a-985a-f70a630f24c4",
   "metadata": {},
   "source": [
    "Q9"
   ]
  },
  {
   "cell_type": "code",
   "execution_count": 12,
   "id": "ebaf1dee-9ebc-45d4-b1a8-78def6347bfb",
   "metadata": {},
   "outputs": [
    {
     "name": "stdout",
     "output_type": "stream",
     "text": [
      "Aadil Ali\n"
     ]
    }
   ],
   "source": [
    "name = \"Aadil Ali\"\n",
    "print(name)"
   ]
  },
  {
   "cell_type": "markdown",
   "id": "340954c6-2f69-44b2-9f18-0be15465a0c8",
   "metadata": {},
   "source": [
    "Q10"
   ]
  },
  {
   "cell_type": "code",
   "execution_count": 17,
   "id": "dc85d431-883c-4d32-bd6e-04f8d5ad5c56",
   "metadata": {},
   "outputs": [
    {
     "name": "stdout",
     "output_type": "stream",
     "text": [
      "World\n"
     ]
    }
   ],
   "source": [
    "x = 'Hello , World!'\n",
    "print(x[8:13])\n"
   ]
  },
  {
   "cell_type": "markdown",
   "id": "b239c66f-0c9f-4bd8-a6cf-2ea1894454e0",
   "metadata": {},
   "source": [
    "Q11"
   ]
  },
  {
   "cell_type": "code",
   "execution_count": 18,
   "id": "f2404d91-6d21-4369-9180-e1467cd770a4",
   "metadata": {},
   "outputs": [
    {
     "name": "stdout",
     "output_type": "stream",
     "text": [
      "You are a Student\n"
     ]
    }
   ],
   "source": [
    "\n",
    "is_student = True\n",
    "if is_student == True:\n",
    "    print(\"You are a Student\")\n",
    "\n",
    "else:\n",
    "    print(\"You are not a Student\")"
   ]
  },
  {
   "cell_type": "code",
   "execution_count": null,
   "id": "c027529a-fd37-40c7-8d1e-a8a6c844de51",
   "metadata": {},
   "outputs": [],
   "source": []
  }
 ],
 "metadata": {
  "kernelspec": {
   "display_name": "Python 3 (ipykernel)",
   "language": "python",
   "name": "python3"
  },
  "language_info": {
   "codemirror_mode": {
    "name": "ipython",
    "version": 3
   },
   "file_extension": ".py",
   "mimetype": "text/x-python",
   "name": "python",
   "nbconvert_exporter": "python",
   "pygments_lexer": "ipython3",
   "version": "3.10.8"
  }
 },
 "nbformat": 4,
 "nbformat_minor": 5
}
